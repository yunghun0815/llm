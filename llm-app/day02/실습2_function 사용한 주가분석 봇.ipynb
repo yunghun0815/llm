{
 "cells": [
  {
   "cell_type": "code",
   "execution_count": 92,
   "metadata": {},
   "outputs": [
    {
     "name": "stdout",
     "output_type": "stream",
     "text": [
      "주식 정보를 분석해드려요. 날짜와 회사명을 말씀해주세요.\n"
     ]
    }
   ],
   "source": [
    "\n",
    "from openai import OpenAI\n",
    "import json\n",
    "from pykrx import stock\n",
    "from pykrx import bond\n",
    "\n",
    "client = OpenAI()\n",
    "\n",
    "print(\"주식 정보를 분석해드려요. 날짜와 회사명을 말씀해주세요.\")"
   ]
  },
  {
   "cell_type": "code",
   "execution_count": 93,
   "metadata": {},
   "outputs": [],
   "source": [
    "#종목별 DIV/BPS/PER/EPS 조회\n",
    "def get_market_fundamental(start_dt, end_dt, ticket):\n",
    "    df = stock.get_market_fundamental(start_dt, end_dt, ticket)\n",
    "    return json.dumps(df.head(10000).to_dict(orient=\"records\"), ensure_ascii=False)\n",
    "\n",
    "#일자별 OHLCV 조회\n",
    "def get_market_ohlcv(start_dt, end_dt, ticket):\n",
    "    df = stock.get_market_ohlcv(start_dt, end_dt, ticket)\n",
    "    return json.dumps(df.head(10000).to_dict(orient=\"records\"), ensure_ascii=False)"
   ]
  },
  {
   "cell_type": "code",
   "execution_count": 94,
   "metadata": {},
   "outputs": [],
   "source": [
    "tickers = stock.get_market_ticker_list()\n",
    "종목 = {}\n",
    "\n",
    "for ticker in tickers:\n",
    "    종목[stock.get_market_ticker_name(ticker)] = ticker\n",
    "\n",
    "def get_stock_info(start_dt, end_dt, ticker):\n",
    "    data = {}\n",
    "    data[\"fundamental\"] = get_market_fundamental(start_dt, end_dt, ticker)\n",
    "    data[\"ohlcv\"] = get_market_ohlcv(start_dt, end_dt, ticker)\n",
    "\n",
    "    return str(data)\n",
    "\n",
    "messages = [{\"role\": \"user\", \"content\": \"2024년 1월 1일 ~ 2024년 1월 21일의 LG전자 주식 정보를 요약해줘\"}]\n",
    "functions = [\n",
    "    {\n",
    "        \"name\": \"get_stock_info\",\n",
    "        \"description\": \"주식 정보를 제공받습니다.\",\n",
    "        \"parameters\": {\n",
    "            \"type\": \"object\",\n",
    "            \"properties\": {\n",
    "                \"start_dt\": {\n",
    "                    \"type\": \"string\",\n",
    "                    \"description\": \"시작일자, ex) 2024년이라고 말한 경우 2024년 1월 1일, 2024년 5월이라고 말한 경우 2024년 5월 1일\",\n",
    "                },\n",
    "                \"end_dt\": {\n",
    "                    \"type\": \"string\",\n",
    "                    \"description\": \"종료일자, ex) 2024년이라고 말한 경우 2024년 1월 1일, 2024년 5월이라고 말한 경우 2024년 5월 1일\",\n",
    "                },\n",
    "                \"ticker\": {\n",
    "                    \"type\": \"string\", \n",
    "                    \"description\": str(종목)\n",
    "                },\n",
    "            },\n",
    "            \"required\": [\"start_dt\", \"end_dt\", \"ticker\"],\n",
    "        },\n",
    "    }\n",
    "]"
   ]
  },
  {
   "cell_type": "code",
   "execution_count": 95,
   "metadata": {},
   "outputs": [
    {
     "name": "stdout",
     "output_type": "stream",
     "text": [
      "ChatCompletionMessage(content=None, refusal=None, role='assistant', audio=None, function_call=FunctionCall(arguments='{\"start_dt\":\"2024-01-01\",\"end_dt\":\"2024-01-21\",\"ticker\":\"066570\"}', name='get_stock_info'), tool_calls=None)\n"
     ]
    }
   ],
   "source": [
    "response = client.chat.completions.create(\n",
    "    model=\"gpt-4o-mini\",\n",
    "    messages=messages,\n",
    "    functions=functions,\n",
    "    function_call=\"auto\",\n",
    "    )\n",
    "response_message = response.choices[0].message\n",
    "print(response_message)"
   ]
  },
  {
   "cell_type": "code",
   "execution_count": 96,
   "metadata": {},
   "outputs": [
    {
     "name": "stdout",
     "output_type": "stream",
     "text": [
      "2024년 1월 1일부터 1월 21일까지의 LG전자(주식 코드: 066570) 주식 정보 요약은 다음과 같습니다:\n",
      "\n",
      "### 가격 변동\n",
      "- **1월 1일**: 시가 101,500원, 종가 101,400원 (등락률: -0.39%)\n",
      "- **1월 2일**: 시가 100,400원, 종가 99,500원 (등락률: -1.87%)\n",
      "- **1월 3일**: 시가 98,500원, 종가 97,800원 (등락률: -1.71%)\n",
      "- **1월 4일**: 시가 97,600원, 종가 97,100원 (등락률: -0.72%)\n",
      "- **1월 5일**: 시가 97,500원, 종가 99,100원 (등락률: +2.06%)\n",
      "- **1월 8일**: 시가 100,100원, 종가 98,000원 (등락률: -1.11%)\n",
      "- **1월 9일**: 시가 98,000원, 종가 97,200원 (등락률: -0.82%)\n",
      "- **1월 10일**: 시가 97,500원, 종가 95,000원 (등락률: -2.26%)\n",
      "- **1월 11일**: 시가 95,000원, 종가 94,700원 (등락률: -0.32%)\n",
      "- **1월 12일**: 시가 95,300원, 종가 95,100원 (등락률: +0.42%)\n",
      "- **1월 15일**: 시가 94,700원, 종가 94,600원 (등락률: -0.53%)\n",
      "- **1월 16일**: 시가 94,000원, 종가 91,300원 (등락률: -3.49%)\n",
      "- **1월 17일**: 시가 91,100원, 종가 91,200원 (등락률: -0.11%)\n",
      "- **1월 18일**: 시가 92,200원, 종가 91,800원 (등락률: +0.66%)\n",
      "\n",
      "### 주가 통계\n",
      "- **고가**: 101,800원 (1월 1일)\n",
      "- **저가**: 90,700원 (1월 16일)\n",
      "- **거래량**: 각 일별 평균적으로 400,000 ~ 800,000주 거래됨\n",
      "\n",
      "### 주요 재무 지표 (2024년 기준)\n",
      "- **BPS (주당자산가치)**: 105,473원\n",
      "- **PER (주가수익비율)**: 13.75 ~ 15.27\n",
      "- **PBR (주가순자산비율)**: 0.87 ~ 0.96\n",
      "- **EPS (주당순이익)**: 6,640원\n",
      "- **DPS (주당배당금)**: 700원\n",
      "\n",
      "이 정보는 LG전자의 주식 시장 성과와 주요 재무 지표를 요약한 것으로, 실제 투자 결정을 내리기 전 더 많은 정보와 상담을 고려하는 것이 좋습니다.\n"
     ]
    }
   ],
   "source": [
    "if response_message.function_call is not None:\n",
    "    # Note: the JSON response may not always be valid; be sure to handle errors\n",
    "    available_functions = {\n",
    "        \"get_stock_info\": get_stock_info,\n",
    "    }\n",
    "    function_name = response_message.function_call.name\n",
    "    function_to_call = available_functions[function_name]\n",
    "    function_args = json.loads(response_message.function_call.arguments)\n",
    "    function_response = function_to_call(\n",
    "        start_dt=function_args['start_dt'],\n",
    "        end_dt=function_args['end_dt'],\n",
    "        ticker=function_args['ticker'],\n",
    "    )\n",
    "\n",
    "    messages.append(response_message)\n",
    "    messages.append(\n",
    "        {\n",
    "            \"role\": \"function\",\n",
    "            \"name\": function_name,\n",
    "            \"content\": function_response,\n",
    "        }\n",
    "    )\n",
    "    second_response = client.chat.completions.create(\n",
    "        model=\"gpt-4o-mini\",\n",
    "        messages=messages,\n",
    "    )\n",
    "\n",
    "    print(second_response.choices[0].message.content)"
   ]
  }
 ],
 "metadata": {
  "kernelspec": {
   "display_name": "Python 3",
   "language": "python",
   "name": "python3"
  },
  "language_info": {
   "codemirror_mode": {
    "name": "ipython",
    "version": 3
   },
   "file_extension": ".py",
   "mimetype": "text/x-python",
   "name": "python",
   "nbconvert_exporter": "python",
   "pygments_lexer": "ipython3",
   "version": "3.10.12"
  }
 },
 "nbformat": 4,
 "nbformat_minor": 2
}
