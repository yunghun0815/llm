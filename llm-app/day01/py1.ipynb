{
 "cells": [
  {
   "cell_type": "code",
   "execution_count": 1,
   "metadata": {},
   "outputs": [
    {
     "name": "stdout",
     "output_type": "stream",
     "text": [
      "3\n"
     ]
    }
   ],
   "source": [
    "print(1+2)\n"
   ]
  },
  {
   "cell_type": "code",
   "execution_count": 1,
   "metadata": {},
   "outputs": [
    {
     "name": "stdout",
     "output_type": "stream",
     "text": [
      "좋습니다. 마리화나 합법화에 대한 찬반 토론을 시작하겠습니다. 제가 찬성과 반대의 입장을 번갈아가며 제시하겠습니다.\n",
      "\n",
      "### 찬성 입장:\n",
      "마리화나의 합법화는 여러 가지 긍정적인 효과를 가져올 수 있습니다. 첫째, 범죄율 감소입니다. 마리화나가 합법화되면 불법 거래가 줄어들고, 이에 따라 마리화나와 관련된 범죄가 감소할 것입니다. 둘째, 세수 증대입니다. 합법화된 마리화나는 세금으로 과세될 수 있으며, 이로 인해 정부는 교육, 의료 등 다양한 분야에 필요한 자금을 확보할 수 있습니다. 마지막으로, 의료적 효용입니다. 마리화나는 통증 완화, 불안 감소 등 여러 치료 효과가 있는 것으로 알려져 있으며, 이를 합법적으로 사용할 수 있게 되면 많은 환자들이 혜택을 받을 수 있습니다.\n",
      "\n",
      "### 반대 입장:\n",
      "마리화나의 합법화는 여러 가지 부작용을 초래할 수 있습니다. 첫째, 공공 건강 문제입니다. 마리화나가 합법화되면 사용이 증가할 가능성이 높아지고, 이는 청소년을 포함한 사용자들의 건강에 악영향을 미칠 수 있습니다. 둘째, 중독성 문제입니다. 마리화나는 일부 사용자에게 중독성을 유발할 수 있으며, 이는 사회적 비용을 증가시킬 수 있습니다. 마지막으로, 교통사고 증가 우려입니다. 마리화나 사용 후 운전하는 경우 사고 위험이 증가할 수 있으며, 이는 공공 안전에 심각한 위협이 될 수 있습니다.\n",
      "\n",
      "### 찬성 입장:\n",
      "반대 의견에 대해 반박하겠습니다. 물론 마리화나 사용이 건강에 해로운 경우가 있을 수 있지만, 이는 모든 물질에 해당하는 일반적인 사실입니다. 따라서 교육과 규제를 통해 안전하게 사용할 수 있는 환경을 조성하는 것이 중요합니다. 또한, 마리화나의 의료적 효용을 고려할 때, 합법화는 환자들에게 필요한 치료 방법을 제공할 수 있습니다. 더불어, 마리화나의 안전한 사용을 위한 연구와 교육이 이루어진다면, 청소년 보호도 가능할 것입니다.\n",
      "\n",
      "### 반대 입장:\n",
      "찬성 측의 의견에 대해 다시 반박하겠습니다. 마리화나의 교육과 규제가 효과적일 것이라는 보장이 없습니다. 실제로 여러 나라에서 마리화나가 합법화된 후 사용량이 증가했으며, 이는 청소년에게 특히 부정적인 영향을 미쳤습니다. 또한, 마리화나의 중독성과 정신 건강 문제는 간과할 수 없는 사실입니다. 이러한 문제들은 사회적으로 큰 비용을 초래할 수 있으며, 결국에는 의료 시스템에 부담을 줄 수 있습니다. 따라서 마리화나의 합법화는 신중하게 고려해야 할 문제입니다.\n",
      "\n",
      "이와 같은 방식으로 찬반 토론을 계속 진행할 수 있습니다. 추가적인 질문이나 특정 주제에 대한 논의가 필요하시면 말씀해 주세요!"
     ]
    }
   ],
   "source": [
    "import os\n",
    "import openai\n",
    "\n",
    "gen = openai.chat.completions.create(\n",
    "  model=\"gpt-4o-mini\",\n",
    "  messages=[\n",
    "    {\n",
    "      \"role\": \"user\",\n",
    "      \"content\": \"마리화나 합법화에 대해서 찬성과 반대로 역할을 번갈아가면서 토론을 생성하세요.\"\n",
    "    }\n",
    "  ],\n",
    "  temperature=0.5,\n",
    "  max_tokens=1024,\n",
    "  top_p=1,\n",
    "  frequency_penalty=0,\n",
    "  presence_penalty=0,\n",
    "  stream=True\n",
    ")\n",
    "\n",
    "while True:\n",
    "    response = next(gen)\n",
    "    delta = response.choices[0].delta\n",
    "    if delta.content is not None:\n",
    "        print(delta.content, end='')\n",
    "    else:\n",
    "        break"
   ]
  }
 ],
 "metadata": {
  "kernelspec": {
   "display_name": "Python 3",
   "language": "python",
   "name": "python3"
  },
  "language_info": {
   "codemirror_mode": {
    "name": "ipython",
    "version": 3
   },
   "file_extension": ".py",
   "mimetype": "text/x-python",
   "name": "python",
   "nbconvert_exporter": "python",
   "pygments_lexer": "ipython3",
   "version": "3.10.12"
  }
 },
 "nbformat": 4,
 "nbformat_minor": 2
}
