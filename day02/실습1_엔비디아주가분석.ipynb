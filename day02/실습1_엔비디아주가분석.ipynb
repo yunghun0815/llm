{
 "cells": [
  {
   "cell_type": "code",
   "execution_count": null,
   "metadata": {},
   "outputs": [
    {
     "name": "stdout",
     "output_type": "stream",
     "text": [
      "날짜를 입력하시면 엔비디아 주가를 분석해드려요\n",
      "USER: 2024sus\n",
      "GPT: 무슨 말인지 모르겠어요. 다시 질문해 주세요.\n",
      "USER: 2024년도\n",
      "GPT: 날짜를 입력해 주세요.\n"
     ]
    }
   ],
   "source": [
    "# pip install finance-datareader\n",
    "# pip install beautifulsoup4\n",
    "# pip install plotly\n",
    "\n",
    "import FinanceDataReader as fdr\n",
    "import openai\n",
    "import json\n",
    "\n",
    "INIT_PROMPT = \"\"\"\n",
    "            너는 엔비디아 주가 정보를 분석하는 봇이야. \n",
    "            질문에 따라 답변을 해줘\n",
    "            날짜는 년도만 말할 수도있고, 년 + 월, 또는 년 + 월 + 일로 질문할 수 있어 \n",
    "            '2024년' 이라고 연도만 말한 경우에는 시작일은 2024년 1월 1일, 종료일은 2024년 12월31일\n",
    "            '2024년 1월' 이라고 말한 경우에는 시작일은 2024년 1월 1일, 종료일은 2024년 1월 31일\n",
    "            '2024년 1월 1일' 이라고 말한 경우에는 시작일은 2024년 1월 1일, 종료일은 2024년 1월 1일이야\n",
    "            \n",
    "            1. 엔비디아 외 회사의 주가 정보를 물어본 경우\n",
    "              -> 저는 엔비디아의 주가 정보만 대답할 수 있습니다.\n",
    "           \n",
    "            2. 질문에 날짜가 포함되어있는 경우 JSON형식으로 대답, 날짜는 연도만 포함되어도 됨\n",
    "\n",
    "            {\n",
    "                start_dt: 사용자가 말한 날짜의 시작일 (YYYY-MM-DD 형식)\n",
    "                end_dt: 사용자가 말한 날짜의 종료일 (YYYY-MM-DD 형식)\n",
    "            } \n",
    "\n",
    "            3. 날짜를 질문하지 않은 경우 (연도 또는 월 또는 일이 포함되지 않은 경우임, 연도만 포함되어도 됨)\n",
    "              -> 날짜를 입력해 주세요\n",
    "\n",
    "            4. 그 외 엉뚱한 질문인 경우\n",
    "              -> 무슨 말인지 모르겠어요. 다시 질문해 주세요.\n",
    "\n",
    "\"\"\"\n",
    "\n",
    "def is_valid_json(data):\n",
    "    try:\n",
    "        json.loads(data)\n",
    "        return True\n",
    "    except (TypeError, ValueError):\n",
    "        return False\n",
    "\n",
    "def chat_create(question, prompt):\n",
    "    response = openai.chat.completions.create(\n",
    "        model=\"gpt-4o-mini\",\n",
    "        messages=[\n",
    "            {\n",
    "                \"role\": \"system\",\n",
    "                \"content\": prompt\n",
    "            },\n",
    "            {\n",
    "                \"role\": \"user\", \n",
    "                \"content\": question\n",
    "            }],\n",
    "        )\n",
    "    return response.choices[0].message.content\n",
    "\n",
    "def ask(question, prompt, cache):\n",
    "    if(prompt != \"\"):\n",
    "       cache = chat_create(question, prompt)\n",
    "       return ask(question, \"\", cache)\n",
    "    else:\n",
    "        if not is_valid_json(cache):\n",
    "            return cache\n",
    "\n",
    "        ref = json.loads(cache)\n",
    "        print(ref)\n",
    "        start_dt = ref[\"start_dt\"]\n",
    "        end_dt = ref[\"end_dt\"]\n",
    "        df = fdr.DataReader('NVDA', start_dt, end_dt)\n",
    "        df_dict = df.to_dict(orient=\"records\")\n",
    "        df_str = json.dumps(df_dict, ensure_ascii=False)\n",
    "\n",
    "        question = (\n",
    "            \"질문과 데이터를 바탕으로 분석해서 결과를 알려줘\"\n",
    "            + \"질문 : \" + question\n",
    "            + \", 데이터 : \" + df_str\n",
    "        )\n",
    "        return chat_create(question, \"\")\n",
    "\n",
    "def chat():\n",
    "    print(\"날짜를 입력하시면 엔비디아 주가를 분석해드려요\")\n",
    "    while True:\n",
    "        user_input = input(\"User: \")\n",
    "        print(f\"USER: {user_input}\")\n",
    "\n",
    "        if user_input.lower() == 'exit':\n",
    "            print(\"Exiting...\")\n",
    "            break\n",
    "        response = ask(user_input, INIT_PROMPT, \"\")\n",
    "        print(f\"GPT: {response}\")\n",
    "\n",
    "if __name__ == \"__main__\":\n",
    "    chat()\n",
    "\n"
   ]
  },
  {
   "cell_type": "code",
   "execution_count": 28,
   "metadata": {},
   "outputs": [
    {
     "name": "stdout",
     "output_type": "stream",
     "text": [
      "                 Open       High        Low      Close     Volume  Adj Close\n",
      "2024-01-03  47.485001  48.183998  47.320000  47.569000  320896000  47.555515\n",
      "2024-01-04  47.766998  48.500000  47.507999  47.998001  306535000  47.984398\n"
     ]
    }
   ],
   "source": [
    "import FinanceDataReader as fdr\n",
    "import openai\n",
    "import json\n",
    "\n",
    "df = fdr.DataReader('NVDA', '2024-01-04', '2024-01-04')\n",
    "print(df)"
   ]
  }
 ],
 "metadata": {
  "kernelspec": {
   "display_name": "Python 3",
   "language": "python",
   "name": "python3"
  },
  "language_info": {
   "codemirror_mode": {
    "name": "ipython",
    "version": 3
   },
   "file_extension": ".py",
   "mimetype": "text/x-python",
   "name": "python",
   "nbconvert_exporter": "python",
   "pygments_lexer": "ipython3",
   "version": "3.10.12"
  }
 },
 "nbformat": 4,
 "nbformat_minor": 2
}
