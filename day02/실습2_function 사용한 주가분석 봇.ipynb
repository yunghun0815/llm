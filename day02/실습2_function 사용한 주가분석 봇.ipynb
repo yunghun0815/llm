{
 "cells": [
  {
   "cell_type": "code",
   "execution_count": 42,
   "metadata": {},
   "outputs": [],
   "source": [
    "\n",
    "from openai import OpenAI\n",
    "import json\n",
    "from pykrx import stock\n",
    "from pykrx import bond\n",
    "\n",
    "client = OpenAI()"
   ]
  },
  {
   "cell_type": "code",
   "execution_count": 43,
   "metadata": {},
   "outputs": [],
   "source": [
    "#종목별 DIV/BPS/PER/EPS 조회\n",
    "def get_market_fundamental(start_dt, end_dt, ticket):\n",
    "    df = stock.get_market_fundamental(start_dt, end_dt, ticket)\n",
    "    return json.dumps(df.head(365).to_dict(orient=\"records\"), ensure_ascii=False)\n",
    "\n",
    "#일자별 OHLCV 조회\n",
    "def get_market_ohlcv(start_dt, end_dt, ticket):\n",
    "    df = stock.get_market_ohlcv(start_dt, end_dt, ticket)\n",
    "    return json.dumps(df.head(365).to_dict(orient=\"records\"), ensure_ascii=False)"
   ]
  },
  {
   "cell_type": "code",
   "execution_count": 44,
   "metadata": {},
   "outputs": [],
   "source": [
    "tickers = stock.get_market_ticker_list()\n",
    "종목 = {}\n",
    "\n",
    "for ticker in tickers:\n",
    "    종목[stock.get_market_ticker_name(ticker)] = ticker\n",
    "\n",
    "def get_stock_info(start_dt, end_dt, ticket):\n",
    "    data = {}\n",
    "    data[\"fundamental\"] = get_market_fundamental(start_dt, end_dt, ticket)\n",
    "    data[\"ohlcv\"] = get_market_ohlcv(start_dt, end_dt, ticket)\n",
    "\n",
    "    return data\n",
    "\n",
    "messages = [{\"role\": \"user\", \"content\": \"2024년 1월 LG의 주식 정보를 요약해줘\"}]\n",
    "functions = [\n",
    "    {\n",
    "        \"name\": \"get_stock_info\",\n",
    "        \"description\": \"특정 지역의 날씨를 알려줍니다.\",\n",
    "        \"parameters\": {\n",
    "            \"type\": \"object\",\n",
    "            \"properties\": {\n",
    "                \"start_dt\": {\n",
    "                    \"type\": \"string\",\n",
    "                    \"description\": \"시작일자, ex) 2024년이라고 말한 경우 2024년 1월 1일, 2024년 5월이라고 말한 경우 2024년 5월 1일\",\n",
    "                },\n",
    "                \"end_dt\": {\n",
    "                    \"type\": \"string\",\n",
    "                    \"description\": \"종료일자, ex) 2024년이라고 말한 경우 2024년 1월 1일, 2024년 5월이라고 말한 경우 2024년 5월 1일\",\n",
    "                },\n",
    "                \"ticker\": {\n",
    "                    \"type\": \"string\", \n",
    "                    \"description\": str(종목)\n",
    "                },\n",
    "            },\n",
    "            \"required\": [\"start_dt\", \"end_dt\", \"ticker\"],\n",
    "        },\n",
    "    }\n",
    "]"
   ]
  },
  {
   "cell_type": "code",
   "execution_count": 45,
   "metadata": {},
   "outputs": [
    {
     "name": "stdout",
     "output_type": "stream",
     "text": [
      "ChatCompletionMessage(content=None, refusal=None, role='assistant', audio=None, function_call=FunctionCall(arguments='{\"start_dt\":\"2024-01-01\",\"end_dt\":\"2024-01-02\",\"ticker\":\"066570\"}', name='get_stock_info'), tool_calls=None)\n"
     ]
    }
   ],
   "source": [
    "response = client.chat.completions.create(\n",
    "    model=\"gpt-4o-mini\",\n",
    "    messages=messages,\n",
    "    functions=functions,\n",
    "    function_call=\"auto\",\n",
    "    )\n",
    "response_message = response.choices[0].message\n",
    "print(response_message)"
   ]
  },
  {
   "cell_type": "code",
   "execution_count": 46,
   "metadata": {},
   "outputs": [
    {
     "ename": "NameError",
     "evalue": "name 'get_current_weather' is not defined",
     "output_type": "error",
     "traceback": [
      "\u001b[0;31m---------------------------------------------------------------------------\u001b[0m",
      "\u001b[0;31mNameError\u001b[0m                                 Traceback (most recent call last)",
      "Cell \u001b[0;32mIn[46], line 4\u001b[0m\n\u001b[1;32m      1\u001b[0m \u001b[38;5;28;01mif\u001b[39;00m response_message\u001b[38;5;241m.\u001b[39mfunction_call \u001b[38;5;129;01mis\u001b[39;00m \u001b[38;5;129;01mnot\u001b[39;00m \u001b[38;5;28;01mNone\u001b[39;00m:\n\u001b[1;32m      2\u001b[0m     \u001b[38;5;66;03m# Note: the JSON response may not always be valid; be sure to handle errors\u001b[39;00m\n\u001b[1;32m      3\u001b[0m     available_functions \u001b[38;5;241m=\u001b[39m {\n\u001b[0;32m----> 4\u001b[0m         \u001b[38;5;124m\"\u001b[39m\u001b[38;5;124mget_current_weather\u001b[39m\u001b[38;5;124m\"\u001b[39m: \u001b[43mget_current_weather\u001b[49m,\n\u001b[1;32m      5\u001b[0m     }\n\u001b[1;32m      6\u001b[0m     function_name \u001b[38;5;241m=\u001b[39m response_message\u001b[38;5;241m.\u001b[39mfunction_call\u001b[38;5;241m.\u001b[39mname\n\u001b[1;32m      7\u001b[0m     function_to_call \u001b[38;5;241m=\u001b[39m available_functions[function_name]\n",
      "\u001b[0;31mNameError\u001b[0m: name 'get_current_weather' is not defined"
     ]
    }
   ],
   "source": [
    "if response_message.function_call is not None:\n",
    "    # Note: the JSON response may not always be valid; be sure to handle errors\n",
    "    available_functions = {\n",
    "        \"get_stock_info\": get_stock_info,\n",
    "    }\n",
    "    function_name = response_message.function_call.name\n",
    "    function_to_call = available_functions[function_name]\n",
    "    function_args = json.loads(response_message.function_call.arguments)\n",
    "    function_response = function_to_call(\n",
    "        start_dt=function_args['start_dt'],\n",
    "        end_dt=function_args['end_dt'],\n",
    "        ticker=function_args['ticker'],\n",
    "    )\n",
    "\n",
    "    messages.append(response_message)\n",
    "    messages.append(\n",
    "        {\n",
    "            \"role\": \"function\",\n",
    "            \"name\": function_name,\n",
    "            \"content\": function_response,\n",
    "        }\n",
    "    )\n",
    "    second_response = client.chat.completions.create(\n",
    "        model=\"gpt-4o-mini\",\n",
    "        messages=messages,\n",
    "    )  # get a new response from GPT where it can see the function response\n",
    "\n",
    "    print(second_response.choices[0].message.content)"
   ]
  }
 ],
 "metadata": {
  "kernelspec": {
   "display_name": "Python 3",
   "language": "python",
   "name": "python3"
  },
  "language_info": {
   "codemirror_mode": {
    "name": "ipython",
    "version": 3
   },
   "file_extension": ".py",
   "mimetype": "text/x-python",
   "name": "python",
   "nbconvert_exporter": "python",
   "pygments_lexer": "ipython3",
   "version": "3.10.12"
  }
 },
 "nbformat": 4,
 "nbformat_minor": 2
}
