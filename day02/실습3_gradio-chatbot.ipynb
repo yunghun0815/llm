{
 "cells": [
  {
   "cell_type": "code",
   "execution_count": 36,
   "metadata": {},
   "outputs": [
    {
     "name": "stderr",
     "output_type": "stream",
     "text": [
      "/home/hoon/.local/lib/python3.10/site-packages/gradio/components/chatbot.py:273: UserWarning: You have not specified a value for the `type` parameter. Defaulting to the 'tuples' format for chatbot messages, but this is deprecated and will be removed in a future version of Gradio. Please set type='messages' instead, which uses openai-style dictionaries with 'role' and 'content' keys.\n",
      "  warnings.warn(\n"
     ]
    },
    {
     "name": "stdout",
     "output_type": "stream",
     "text": [
      "* Running on local URL:  http://0.0.0.0:7896\n",
      "\n",
      "To create a public link, set `share=True` in `launch()`.\n"
     ]
    },
    {
     "data": {
      "text/html": [
       "<div><iframe src=\"http://localhost:7896/\" width=\"100%\" height=\"500\" allow=\"autoplay; camera; microphone; clipboard-read; clipboard-write;\" frameborder=\"0\" allowfullscreen></iframe></div>"
      ],
      "text/plain": [
       "<IPython.core.display.HTML object>"
      ]
     },
     "metadata": {},
     "output_type": "display_data"
    },
    {
     "data": {
      "text/plain": []
     },
     "execution_count": 36,
     "metadata": {},
     "output_type": "execute_result"
    }
   ],
   "source": [
    "import gradio as gr\n",
    "import os\n",
    "import time\n",
    "import openai\n",
    "\n",
    "def add_text(history, text):\n",
    "    history.append((text, None))\n",
    "    return history, gr.update(value=\"\", interactive=False)\n",
    "\n",
    "def bot(history):\n",
    "    question = history[-1][0]\n",
    "\n",
    "    messages = [{\"role\": \"user\", \"content\": question}]\n",
    "    for h in history:\n",
    "        if h[0] is not None:\n",
    "            messages.append({\"role\": \"user\", \"content\": h[0]})\n",
    "        if h[1] is not None:\n",
    "            messages.append({\"role\": \"assistant\", \"content\": h[1]})\n",
    "\n",
    "    gen = openai.chat.completions.create(\n",
    "        model=\"gpt-4o-mini\",\n",
    "        messages=messages,\n",
    "        stream=True,\n",
    "        temperature=0.5,\n",
    "        max_tokens=512,\n",
    "        top_p=1,\n",
    "        frequency_penalty=0,\n",
    "        presence_penalty=0\n",
    "    )\n",
    "\n",
    "    history[-1][1] = \"\"\n",
    "\n",
    "    while True:\n",
    "        response = next(gen)\n",
    "        delta = response.choices[0].delta\n",
    "        if delta.content is not None:\n",
    "            history[-1][1] += delta.content\n",
    "            time.sleep(0.05)\n",
    "            yield history\n",
    "        else:\n",
    "            break\n",
    "\n",
    "# Gradio 인터페이스 정의\n",
    "with gr.Blocks() as demo:\n",
    "    chatbot = gr.Chatbot(\n",
    "        [],\n",
    "        elem_id=\"chatbot\",\n",
    "        bubble_full_width=False,\n",
    "        avatar_images=(None, os.path.join(\"./avatar.png\")),\n",
    "    )\n",
    "\n",
    "    with gr.Row():\n",
    "        txt = gr.Textbox(\n",
    "            scale=4,\n",
    "            show_label=False,\n",
    "            placeholder=\"텍스트를 입력하고 엔터를 치거나 이미지를 업로드하세요\",\n",
    "            container=False,\n",
    "        )\n",
    "\n",
    "    txt.submit(add_text, [chatbot, txt], [chatbot, txt], queue=False).then(\n",
    "        bot, chatbot, chatbot\n",
    "    )\n",
    "    \n",
    "    txt.submit(lambda: gr.update(interactive=True), None, [txt], queue=False)\n",
    "\n",
    "demo.queue()\n",
    "demo.launch(server_name='0.0.0.0') "
   ]
  }
 ],
 "metadata": {
  "kernelspec": {
   "display_name": "Python 3",
   "language": "python",
   "name": "python3"
  },
  "language_info": {
   "codemirror_mode": {
    "name": "ipython",
    "version": 3
   },
   "file_extension": ".py",
   "mimetype": "text/x-python",
   "name": "python",
   "nbconvert_exporter": "python",
   "pygments_lexer": "ipython3",
   "version": "3.10.12"
  }
 },
 "nbformat": 4,
 "nbformat_minor": 2
}
